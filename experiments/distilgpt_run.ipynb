{
 "cells": [
  {
   "cell_type": "code",
   "execution_count": 1,
   "metadata": {},
   "outputs": [],
   "source": [
    "from transformers import GPT2Tokenizer, GPT2LMHeadModel"
   ]
  },
  {
   "cell_type": "code",
   "execution_count": 2,
   "metadata": {},
   "outputs": [],
   "source": [
    "model_name = \"distilgpt2\""
   ]
  },
  {
   "cell_type": "code",
   "execution_count": 3,
   "metadata": {},
   "outputs": [],
   "source": [
    "model = GPT2LMHeadModel.from_pretrained(model_name)\n",
    "tokenizer = GPT2Tokenizer.from_pretrained(model_name)"
   ]
  },
  {
   "cell_type": "markdown",
   "metadata": {},
   "source": [
    "## A simple run\n",
    "\n",
    "In this section, I will just run the model on some prompts and see how it performs.\n"
   ]
  },
  {
   "cell_type": "code",
   "execution_count": 7,
   "metadata": {},
   "outputs": [],
   "source": [
    "def generate_response(prompt):\n",
    "    inputs = tokenizer(prompt, return_tensors=\"pt\")\n",
    "    outputs = model.generate(\n",
    "        **inputs,\n",
    "        max_length=1024,\n",
    "        num_return_sequences=1,\n",
    "        no_repeat_ngram_size=2,\n",
    "    )\n",
    "    return tokenizer.decode(outputs[0], skip_special_tokens=True)"
   ]
  },
  {
   "cell_type": "code",
   "execution_count": 8,
   "metadata": {},
   "outputs": [
    {
     "name": "stderr",
     "output_type": "stream",
     "text": [
      "Setting `pad_token_id` to `eos_token_id`:None for open-end generation.\n"
     ]
    },
    {
     "name": "stdout",
     "output_type": "stream",
     "text": [
      "Explain the concept of a neural network.\n",
      "\n",
      "The idea of neural networks is to create a network that is able to learn from the experience of the user. The neural system is a system that learns from experience and learns about the person. It is also able, in theory, to train the neural systems to recognize the individual. In the case of human intelligence, the system learns to be more intelligent than the human. This is because the brain is more efficient than humans. However, it is not possible to predict the behavior of humans, because it has a more complex neural structure. For example, a human is trained to think about a person's behavior. If a computer learns that a user is an intelligent person, then the computer will learn to do the same. But if a machine learns the information about an individual, and the machine does not know the details of that person and does the exact same, that computer can learn the correct information. So, if the AI learns a particular person from a different person or a certain person in the world, or if it learns an information from another person that the other person is intelligent, this computer could learn that information, but it would not learn it from that other human person because of its intelligence. Therefore, we can infer that human behavior is the most intelligent human, even if we do not have the knowledge to infer it. We can also infer the intelligence of an animal, for example. And if an AI does learn a specific animal from an other animal in a world that has no knowledge of it, there is no reason to believe that it will be intelligent. Thus, our intelligence is very good at predicting the behaviour of animals.\n"
     ]
    }
   ],
   "source": [
    "prompt = \"Explain the concept of a neural network.\"\n",
    "response = generate_response(prompt)\n",
    "print(response)"
   ]
  }
 ],
 "metadata": {
  "kernelspec": {
   "display_name": "venv",
   "language": "python",
   "name": "python3"
  },
  "language_info": {
   "codemirror_mode": {
    "name": "ipython",
    "version": 3
   },
   "file_extension": ".py",
   "mimetype": "text/x-python",
   "name": "python",
   "nbconvert_exporter": "python",
   "pygments_lexer": "ipython3",
   "version": "3.12.4"
  }
 },
 "nbformat": 4,
 "nbformat_minor": 2
}
