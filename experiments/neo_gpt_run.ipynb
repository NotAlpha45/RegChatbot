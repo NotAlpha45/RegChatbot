{
 "cells": [
  {
   "cell_type": "code",
   "execution_count": 5,
   "metadata": {},
   "outputs": [],
   "source": [
    "from transformers import GPT2Tokenizer, GPTNeoForCausalLM"
   ]
  },
  {
   "cell_type": "code",
   "execution_count": 2,
   "metadata": {},
   "outputs": [],
   "source": [
    "model_name = \"EleutherAI/gpt-neo-125M\""
   ]
  },
  {
   "cell_type": "code",
   "execution_count": 6,
   "metadata": {},
   "outputs": [
    {
     "data": {
      "application/vnd.jupyter.widget-view+json": {
       "model_id": "63313f4fef384b47ae5756272f43ccdf",
       "version_major": 2,
       "version_minor": 0
      },
      "text/plain": [
       "generation_config.json:   0%|          | 0.00/119 [00:00<?, ?B/s]"
      ]
     },
     "metadata": {},
     "output_type": "display_data"
    },
    {
     "data": {
      "application/vnd.jupyter.widget-view+json": {
       "model_id": "4499792cf60a48a981316fae36acb45e",
       "version_major": 2,
       "version_minor": 0
      },
      "text/plain": [
       "tokenizer_config.json:   0%|          | 0.00/727 [00:00<?, ?B/s]"
      ]
     },
     "metadata": {},
     "output_type": "display_data"
    },
    {
     "data": {
      "application/vnd.jupyter.widget-view+json": {
       "model_id": "acb7d606905a4fa5bdcc7b7013159251",
       "version_major": 2,
       "version_minor": 0
      },
      "text/plain": [
       "vocab.json:   0%|          | 0.00/899k [00:00<?, ?B/s]"
      ]
     },
     "metadata": {},
     "output_type": "display_data"
    },
    {
     "data": {
      "application/vnd.jupyter.widget-view+json": {
       "model_id": "eeaae1ca09044ff3bd73afb6d67bc3b3",
       "version_major": 2,
       "version_minor": 0
      },
      "text/plain": [
       "merges.txt:   0%|          | 0.00/456k [00:00<?, ?B/s]"
      ]
     },
     "metadata": {},
     "output_type": "display_data"
    },
    {
     "data": {
      "application/vnd.jupyter.widget-view+json": {
       "model_id": "15bb2f6edf99454dbac297d92cbb86e3",
       "version_major": 2,
       "version_minor": 0
      },
      "text/plain": [
       "special_tokens_map.json:   0%|          | 0.00/357 [00:00<?, ?B/s]"
      ]
     },
     "metadata": {},
     "output_type": "display_data"
    },
    {
     "data": {
      "application/vnd.jupyter.widget-view+json": {
       "model_id": "785aadb533654268a88974f3214495c7",
       "version_major": 2,
       "version_minor": 0
      },
      "text/plain": [
       "tokenizer.json:   0%|          | 0.00/2.11M [00:00<?, ?B/s]"
      ]
     },
     "metadata": {},
     "output_type": "display_data"
    }
   ],
   "source": [
    "model = GPTNeoForCausalLM.from_pretrained(model_name)\n",
    "tokenizer = GPT2Tokenizer.from_pretrained(model_name)"
   ]
  },
  {
   "cell_type": "markdown",
   "metadata": {},
   "source": [
    "## A simple run\n",
    "\n",
    "In this section, I will just run the model on some prompts and see how it performs.\n"
   ]
  },
  {
   "cell_type": "code",
   "execution_count": 12,
   "metadata": {},
   "outputs": [],
   "source": [
    "def generate_response(prompt):\n",
    "    inputs = tokenizer(prompt, return_tensors=\"pt\")\n",
    "    outputs = model.generate(\n",
    "        **inputs,\n",
    "        max_length=1024,\n",
    "        num_return_sequences=1,\n",
    "        no_repeat_ngram_size=2,\n",
    "    )\n",
    "    return tokenizer.decode(outputs[0], skip_special_tokens=True)"
   ]
  },
  {
   "cell_type": "code",
   "execution_count": 13,
   "metadata": {},
   "outputs": [
    {
     "name": "stderr",
     "output_type": "stream",
     "text": [
      "Setting `pad_token_id` to `eos_token_id`:None for open-end generation.\n"
     ]
    },
    {
     "name": "stdout",
     "output_type": "stream",
     "text": [
      "Explain the concept of a neural network.\n",
      "\n",
      "The neural networks are a type of computer-generated image processing system that uses a computer to generate images. The neural nets are used to create images, and the neural net is used as a representation of the image. A neuralnet is a network that is composed of neurons that are connected to each other. Each neuron is connected by a series of connections, called connections. These connections are called neurons. In a neuron, each neuron has a connection to a specific neuron. For example, a single neuron can have a number of connected neurons, but a multiple neuron may have more than one connected neuron and so on. When a particular neuron connects to another neuron in the network, the connection is called a “connection”. This connection can be used for a variety of purposes, including the generation of images from a video, or the creation of an image from an input image, such as an animated image or a text. However, in a typical neuralnetwork, there are many connections between neurons in different neurons and each connection may be a different neuron or multiple neurons connected together. Therefore, it is important to understand the connections that exist between the neurons of different connections and to determine the relationships between these connections in order to design a system for generating images that can provide a high quality image for the user. It is also important that the system be able to predict the behavior of each of these neurons based on the information that they have about the input images and/or the output images of other neurons or connections of multiple connections to the same neuron of that neuron that has the most connections with the neuron to which the particular connection belongs. If the prediction is correct, then the resulting image will be the correct image and will have the highest quality. Unfortunately, this is not always the case. Sometimes, when the predicted behavior is incorrect, some of those neurons may not have connections or may even have no connections at all. Thus, if the predictions are correct and there is no connection between a certain neuron with a given connection and a connected one, that connection will not be found. Similarly, sometimes, neurons with connections may contain connections but not connections themselves. That is, they may only have one connection with one neuron connected with another. As a result, these two connections will never be connected. Consequently, even if a prediction was correct for one of them, those connections would not exist. Also, as the number and type and number/type of connection are known, one can predict that a new connection would be created. But, for example if one has two neurons connecting to one another, two of their connections could not connect. So, what is the relationship between those two connection connections?\n",
      "One way to think about this problem is to consider the following problem. Suppose that there were two neuralnets that were connected in one network and one neuralNetwork was connected between two other neuralNets. Then, how would one know if two or more of its connections were also connected? The answer is that if there was a one-to-one relationship, which one would it be? If there could be no one to be one with two, why would there be two? And, of course, is there a relationship? In other words, are there two connected neural Networks that have only one or two different connection? Or, does the answer to this question depend on whether the two networks have any connections (or connections) with other connections than the one that connects them? This is an important question because it can help to answer the question of how to find the best connection for each neural Network. One way of looking at this issue is by looking for connections among the networks. There are two types of networks that we can look at. First, networks with only two nodes. Second, network with more nodes than two. And so, we will look for networks where there exists a two-node network connected only to two others. We will call these networks which have two more connections which are not connected, because they are more connected than they need to connect to. Note that this type is often called the ‘two-way network’. Because of this, our goal is two ways to look. To look, first, look to see if any of two network has more or less connections from one node to other node. Next, to check if all of one and two have at least one connections connected from the other to node 1. Finally, check whether any two and three have connection from node 2 to nodes 3 and 4. All of our network is one. Now, let us look more closely at the second type. Let us consider a simple example. Consider the example of Figure 1, where the nodes are the left and right nodes, respectively. Figure 2 shows the result of using the first type network as shown in Figure 3. Here, nodes 1 and 2 are nodes that connect with nodes 2 and 3, while nodes 4 and 5 are connections connecting with node 3 to 4, so that nodes 5 and 6 are also nodes connected\n"
     ]
    }
   ],
   "source": [
    "prompt = \"Explain the concept of a neural network.\"\n",
    "response = generate_response(prompt)\n",
    "print(response)"
   ]
  }
 ],
 "metadata": {
  "kernelspec": {
   "display_name": "venv",
   "language": "python",
   "name": "python3"
  },
  "language_info": {
   "codemirror_mode": {
    "name": "ipython",
    "version": 3
   },
   "file_extension": ".py",
   "mimetype": "text/x-python",
   "name": "python",
   "nbconvert_exporter": "python",
   "pygments_lexer": "ipython3",
   "version": "3.12.4"
  }
 },
 "nbformat": 4,
 "nbformat_minor": 2
}
